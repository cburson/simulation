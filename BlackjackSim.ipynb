{
 "cells": [
  {
   "cell_type": "code",
   "execution_count": 1,
   "metadata": {},
   "outputs": [],
   "source": [
    "import random\n",
    "import pandas as pd\n",
    "import seaborn as sns\n",
    "random.seed(1111)"
   ]
  },
  {
   "cell_type": "code",
   "execution_count": 2,
   "metadata": {},
   "outputs": [],
   "source": [
    "def gen_cards(num_decks):\n",
    "#Generates deck of cards and shuffles. Cards are delt starting at index 0 and removed from deck.\n",
    "    card_deck=[]\n",
    "    cards=[1,2,3,4,5,6,7,8,9,10,10,10,10]\n",
    "    for i in range(num_decks):\n",
    "        for j in range(4):\n",
    "            card_deck.extend(cards)\n",
    "    random.shuffle(card_deck)\n",
    "    return card_deck\n",
    "#Matricies based on basic strategy card from blackjackapprenticeship.com\n",
    "#soft count\n",
    "#Player[Row] 13,14,15,16,17,18,19,20\n",
    "#Dealer[Col] A,2,3,4,5,6,7,8,9,10\n",
    "#0=stand,1=hit,2=double\n",
    "soft_selection=[\n",
    "    [1,1,1,1,2,2,1,1,1,1],\n",
    "    [1,1,1,1,2,2,1,1,1,1],\n",
    "    [1,1,1,2,2,2,1,1,1,1],\n",
    "    [1,1,1,2,2,2,1,1,1,1],\n",
    "    [1,1,2,2,2,2,1,1,1,1],\n",
    "    [1,2,2,2,2,2,0,0,1,1],\n",
    "    [0,0,0,0,0,2,0,0,0,0],\n",
    "    [0,0,0,0,0,0,0,0,0,0],]\n",
    "\n",
    "#hard count\n",
    "#Player[Row] 4,5,6,7,8,9,10,11,12,13,14,15,16,17,18,19,20\n",
    "#Dealer[Col] A,2,3,4,5,6,7,8,9,10\n",
    "#0=stand,1=hit,2=double\n",
    "hard_selection=[\n",
    "    [1,1,1,1,1,1,1,1,1,1],\n",
    "    [1,1,1,1,1,1,1,1,1,1],\n",
    "    [1,1,1,1,1,1,1,1,1,1],\n",
    "    [1,1,1,1,1,1,1,1,1,1],\n",
    "    [1,1,1,1,1,1,1,1,1,1],\n",
    "    [1,1,2,2,2,2,1,1,1,1],\n",
    "    [1,2,2,2,2,2,2,2,2,1],\n",
    "    [2,2,2,2,2,2,2,2,2,2],\n",
    "    [1,1,1,0,0,0,1,1,1,1],    \n",
    "    [1,0,0,0,0,0,1,1,1,1],    \n",
    "    [1,0,0,0,0,0,1,1,1,1],    \n",
    "    [1,0,0,0,0,0,1,1,1,1],\n",
    "    [1,0,0,0,0,0,1,1,1,1],\n",
    "    [0,0,0,0,0,0,0,0,0,0],\n",
    "    [0,0,0,0,0,0,0,0,0,0],\n",
    "    [0,0,0,0,0,0,0,0,0,0],\n",
    "    [0,0,0,0,0,0,0,0,0,0]]\n",
    "\n",
    "#split\n",
    "#Player[Row] A,2,3,4,5,6,7,8,9,10\n",
    "#Dealer[Col] A,2,3,4,5,6,7,8,9,10\n",
    "#0=Don'tSplit,1=Split\n",
    "split_selection=[\n",
    "    [1,1,1,1,1,1,1,1,1,1],\n",
    "    [0,0,0,1,1,1,1,0,0,0],\n",
    "    [0,0,0,1,1,1,1,0,0,0],\n",
    "    [0,0,0,0,0,0,0,0,0,0],\n",
    "    [0,0,0,0,0,0,0,0,0,0],    \n",
    "    [0,0,1,1,1,1,0,0,0,0],    \n",
    "    [0,1,1,1,1,1,1,0,0,0],    \n",
    "    [1,1,1,1,1,1,1,1,1,1],\n",
    "    [0,1,1,1,1,1,0,1,1,0],\n",
    "    [0,0,0,0,0,0,0,0,0,0],]\n",
    "\n",
    "def hit(player):\n",
    "#Add a new card to the person requesting it\n",
    "    player.append(card_deck[0])\n",
    "    card_deck.pop(0)\n",
    "    return player\n",
    "\n",
    "def split(player):\n",
    "#Could not figure out in time, so function removes second card and replaces it with a new card\n",
    "    player[-1]=card_deck[0]\n",
    "    card_deck.pop(0)\n",
    "    return player\n",
    "\n",
    "def blackjack(dealer, player, bet):\n",
    "#Checks for blackjack on player and dealer, makes payout\n",
    "    bj=set([1,10])\n",
    "    if set(player)==bj:\n",
    "        if set(dealer)==bj:\n",
    "            return 0, True, \"draw\"\n",
    "        else:\n",
    "            return bet*1.5, True, \"player\"\n",
    "    elif set(dealer)==bj:\n",
    "        return bet*-1, True, \"dealer\"\n",
    "    return bet, False, \"draw\"\n",
    "\n",
    "def initial_player_action(dealer, player, bet, win):  \n",
    "    #gives a max of 5 hits\n",
    "    for i in range(0,5):\n",
    "        aces=(1 in player)*1\n",
    "        hard=sum(player)\n",
    "        if hard>19:\n",
    "            return player, bet\n",
    "\n",
    "        hard=sum(player)\n",
    "        soft=hard\n",
    "        if hard<=11:\n",
    "            soft=hard+10*aces  \n",
    "            \n",
    "        if soft!=hard:\n",
    "            if soft>=21:\n",
    "                return player, bet\n",
    "            if soft_selection[soft-13][dealer[0]-1]==1:\n",
    "                hit(player)\n",
    "            elif soft_selection[soft-13][dealer[0]-1]==2 and len(player)==2:\n",
    "                hit(player)\n",
    "                bet*=2\n",
    "            else:\n",
    "                return player, bet\n",
    "        else:\n",
    "            if hard_selection[hard-4][dealer[0]-1]==1:\n",
    "                hit(player)\n",
    "            elif hard_selection[hard-4][dealer[0]-1]==2 and len(player)==2:\n",
    "                hit(player)\n",
    "                bet*=2\n",
    "            else:\n",
    "                return player, bet\n",
    "    \n",
    "    return player, bet\n",
    "\n",
    "def dealer_action(dealer, player):\n",
    "    if sum(player)>21:\n",
    "        return dealer\n",
    "    aces=(1 in dealer)*1\n",
    "    hard=sum(dealer)\n",
    "    soft=hard\n",
    "    #print(\"running dealer\", hard, soft)\n",
    "    if hard<=11:\n",
    "        soft=hard+10*aces\n",
    "    while soft<17 and hard <17:\n",
    "        hit(dealer)\n",
    "        hard=sum(dealer)\n",
    "        soft=hard+10*aces\n",
    "    return dealer\n",
    "\n",
    "def totals(dealer, player, bet):\n",
    "    tdealer=sum(dealer)\n",
    "    if tdealer<=11 and 1 in dealer:\n",
    "        tdealer+=10\n",
    "    \n",
    "    tplayer=sum(player)\n",
    "    if tplayer<=11 and 1 in player:\n",
    "        tplayer+=10\n",
    "    \n",
    "    #print(\"Dealer has \",tdealer, \"vs player's\", tplayer)\n",
    "    if tplayer > 21:\n",
    "        return 0-bet, \"dealer\"\n",
    "    elif tplayer==tdealer:\n",
    "        return 0, \"draw\"\n",
    "    elif tplayer>tdealer:\n",
    "        return bet, \"player\"\n",
    "    \n",
    "    if tdealer > 21:\n",
    "        return bet, \"player\"\n",
    "    else:\n",
    "        return 0-bet, \"dealer\"\n",
    "    \n",
    "def deal(bet):\n",
    "    #Deal two random cards to the dealer and player\n",
    "    player=[card_deck[0], card_deck[2]]\n",
    "    dealer=[card_deck[1], card_deck[3]]\n",
    "    for i in range(0,4):\n",
    "        card_deck.pop(0)\n",
    "    bet, win, winner = blackjack(dealer,player,bet)\n",
    "    return (dealer, player, bet, win, winner)   \n",
    "        "
   ]
  },
  {
   "cell_type": "code",
   "execution_count": 3,
   "metadata": {},
   "outputs": [],
   "source": [
    "#Basic Strategy \n",
    "#This cell is running 50 times, it will take multiple minutes\n",
    "simchart=[]\n",
    "simdata=[]\n",
    "winners=[]\n",
    "dealerstart=[]\n",
    "playerstart=[]\n",
    "playerend=[]\n",
    "sim_data=pd.DataFrame()\n",
    "for a in range(0,50):\n",
    "\n",
    "    for i in range(0,100000):\n",
    "        card_deck=gen_cards(1)\n",
    "        dealer, player, bet, win, winner = deal(10)\n",
    "        if win==False:\n",
    "            player, bet=initial_player_action(dealer,player,bet,win)\n",
    "            dealer_action(dealer, player)\n",
    "        if win==False:\n",
    "            bet, winner = totals(dealer, player, bet)\n",
    "        simdata.append(bet)\n",
    "        winners.append(winner)\n",
    "        dealerstart.append(dealer[0])\n",
    "        playerstart.append(player[0])\n",
    "        playerend.append(player[1])\n",
    "        #print(dealer, player, winner, bet)\n",
    "    simchart.append(sum(simdata[-100000:]))\n"
   ]
  },
  {
   "cell_type": "code",
   "execution_count": 4,
   "metadata": {},
   "outputs": [
    {
     "name": "stdout",
     "output_type": "stream",
     "text": [
      "Min: -4490.0 Max: 11145.0 Avg: 2936.0\n"
     ]
    },
    {
     "data": {
      "image/png": "[encoded data removed]",
      "text/plain": [
       "<Figure size 432x288 with 1 Axes>"
      ]
     },
     "metadata": {
      "needs_background": "light"
     },
     "output_type": "display_data"
    }
   ],
   "source": [
    "#Chart of total profit(loss) across 50 runs of 100,000 hands\n",
    "ax=sns.histplot(simchart);\n",
    "ax.set_xlabel(\"Profit\",fontsize=16);\n",
    "print(\"Min:\",min(simchart), \"Max:\",max(simchart), \"Avg:\",sum(simchart)/len(simchart))\n"
   ]
  },
  {
   "cell_type": "code",
   "execution_count": 5,
   "metadata": {},
   "outputs": [
    {
     "name": "stdout",
     "output_type": "stream",
     "text": [
      "Total Profit(loss): 146800.0\n",
      "Dealer won 2397292 hands\n",
      "Player won 2189714 hands\n",
      "Draws 412994\n",
      "Dealers win percentage 52.26\n"
     ]
    }
   ],
   "source": [
    "#Stats for total runs\n",
    "x=winners.count(\"dealer\")\n",
    "y=winners.count(\"player\")\n",
    "z=winners.count(\"draw\")\n",
    "print(\"Total Profit(loss):\",sum(simdata))\n",
    "print(\"Dealer won\",x,\"hands\")\n",
    "print(\"Player won\", y,\"hands\")\n",
    "print(\"Draws\", z)\n",
    "print(\"Dealers win percentage\",round((100*x/(y+x)),2))"
   ]
  },
  {
   "cell_type": "code",
   "execution_count": 6,
   "metadata": {},
   "outputs": [
    {
     "data": {
      "image/png": "[encoded data removed]",
      "text/plain": [
       "<Figure size 432x288 with 1 Axes>"
      ]
     },
     "metadata": {
      "needs_background": "light"
     },
     "output_type": "display_data"
    }
   ],
   "source": [
    "#Data collection \n",
    "#Combine all parts of sim into single dataframe\n",
    "sim_data=pd.DataFrame({\"Bet\":simdata,\"Winner\": winners, \"DealerStart\":dealerstart,\"PlayerStart\":playerstart,\"PlayerEnd\":playerend})\n",
    "sim_data[\"PlayerHas\"]=sim_data[\"PlayerStart\"]+sim_data[\"PlayerEnd\"]\n",
    "#Groupby player starting hand and who won for winning percentage\n",
    "PlayerStat=sim_data.groupby([\"PlayerHas\", \"Winner\"]).count()\n",
    "x=PlayerStat.xs('player', level=1)\n",
    "y=PlayerStat.xs('dealer', level=1)\n",
    "#Ignoring pushes, only care about win/loss\n",
    "z=x/(x+y)\n",
    "z1=[]\n",
    "for i in range(0,len(z.values)):\n",
    "    z1.append(z.values[i][0])\n",
    "#Plot of Probabilities\n",
    "ax = sns.barplot(x=z.index,y=z1)\n",
    "ax.set_xlabel(\"Player's Total\",fontsize=16);\n",
    "ax.set_ylabel(\"Probability of Win\",fontsize=16);"
   ]
  },
  {
   "cell_type": "code",
   "execution_count": 7,
   "metadata": {},
   "outputs": [
    {
     "data": {
      "image/png": "[encoded data removed]",
      "text/plain": [
       "<Figure size 432x288 with 1 Axes>"
      ]
     },
     "metadata": {
      "needs_background": "light"
     },
     "output_type": "display_data"
    }
   ],
   "source": [
    "#Histogram of total hands win/loss/draw\n",
    "ax=sns.histplot(winners)\n",
    "ax.set_xlabel(\"Winner\",fontsize=16);\n",
    "ax.set_ylabel(\"Count of wins\",fontsize=16);"
   ]
  },
  {
   "cell_type": "code",
   "execution_count": 8,
   "metadata": {},
   "outputs": [],
   "source": [
    "def TheDouble(dealer, player, bet, win):  \n",
    "    #Doubles down if player is under 12, hits between 12-16, stands on 17 or higher\n",
    "    if sum(player)<12:\n",
    "        hit(player)\n",
    "        bet*=2\n",
    "        return player,bet\n",
    "    elif sum(player)<17:\n",
    "        hit(player)\n",
    "    return player, bet"
   ]
  },
  {
   "cell_type": "code",
   "execution_count": 9,
   "metadata": {},
   "outputs": [],
   "source": [
    "#Double down anything under 12, hit 12-16, stand over 17\n",
    "simdata=[]\n",
    "winners=[]\n",
    "dealerstart=[]\n",
    "playerstart=[]\n",
    "playerend=[]\n",
    "sim_data=pd.DataFrame()\n",
    "for i in range(0,100000):    \n",
    "    card_deck=gen_cards(1)\n",
    "    dealer, player, bet, win, winner = deal(10)\n",
    "    if win==False:\n",
    "        player, bet=TheDouble(dealer,player,bet,win)\n",
    "        dealer_action(dealer,player)\n",
    "    if win==False:\n",
    "        bet, winner = totals(dealer, player, bet)\n",
    "    simdata.append(bet)\n",
    "    winners.append(winner)\n",
    "    dealerstart.append(dealer[0])\n",
    "    playerstart.append(player[0])\n",
    "    playerend.append(player[1])"
   ]
  },
  {
   "cell_type": "code",
   "execution_count": 10,
   "metadata": {},
   "outputs": [
    {
     "name": "stdout",
     "output_type": "stream",
     "text": [
      "Total Profit(loss): -68010.0\n",
      "Dealer won 50168 hands\n",
      "Player won 42109 hands\n",
      "Draws 7723\n",
      "Dealers win percentage 54.37\n"
     ]
    }
   ],
   "source": [
    "#Stats for final run\n",
    "x=winners.count(\"dealer\")\n",
    "y=winners.count(\"player\")\n",
    "z=winners.count(\"draw\")\n",
    "print(\"Total Profit(loss):\",sum(simdata))\n",
    "print(\"Dealer won\",x,\"hands\")\n",
    "print(\"Player won\", y,\"hands\")\n",
    "print(\"Draws\", z)\n",
    "print(\"Dealers win percentage\",round((100*x/(y+x)),2))"
   ]
  },
  {
   "cell_type": "code",
   "execution_count": 11,
   "metadata": {},
   "outputs": [
    {
     "data": {
      "image/png": "[encoded data removed]",
      "text/plain": [
       "<Figure size 432x288 with 1 Axes>"
      ]
     },
     "metadata": {
      "needs_background": "light"
     },
     "output_type": "display_data"
    }
   ],
   "source": [
    "#Data collection \n",
    "#Combine all parts of sim into single dataframe\n",
    "sim_data=pd.DataFrame({\"Bet\":simdata,\"Winner\": winners, \"DealerStart\":dealerstart,\"PlayerStart\":playerstart,\"PlayerEnd\":playerend})\n",
    "sim_data[\"PlayerHas\"]=sim_data[\"PlayerStart\"]+sim_data[\"PlayerEnd\"]\n",
    "#Groupby player starting hand and who won for winning percentage\n",
    "PlayerStat=sim_data.groupby([\"PlayerHas\", \"Winner\"]).count()\n",
    "x=PlayerStat.xs('player', level=1)\n",
    "y=PlayerStat.xs('dealer', level=1)\n",
    "#Ignoring pushes, only care about win/loss\n",
    "z=x/(x+y)\n",
    "z1=[]\n",
    "for i in range(0,len(z.values)):\n",
    "    z1.append(z.values[i][0])\n",
    "#Plot of Probabilities\n",
    "ax = sns.barplot(x=z.index,y=z1)\n",
    "ax.set_xlabel(\"Player's Total\",fontsize=16);\n",
    "ax.set_ylabel(\"Probability of Win\",fontsize=16);"
   ]
  },
  {
   "cell_type": "code",
   "execution_count": 12,
   "metadata": {},
   "outputs": [
    {
     "data": {
      "image/png": "[encoded data removed]",
      "text/plain": [
       "<Figure size 432x288 with 1 Axes>"
      ]
     },
     "metadata": {
      "needs_background": "light"
     },
     "output_type": "display_data"
    }
   ],
   "source": [
    "#Histogram of total hands win/loss/draw\n",
    "ax=sns.histplot(winners)\n",
    "ax.set_xlabel(\"Winner\",fontsize=16);\n",
    "ax.set_ylabel(\"Count of wins\",fontsize=16);"
   ]
  },
  {
   "cell_type": "code",
   "execution_count": 13,
   "metadata": {},
   "outputs": [],
   "source": [
    "def TheRandom(dealer, player, bet, win):  \n",
    "    #Generates Uni(0,1), under .5 stands, over hits\n",
    "    x=random.random()\n",
    "    if x>0.5 and sum(player)<13:\n",
    "        hit(player)\n",
    "        return player,bet\n",
    "    return player, bet"
   ]
  },
  {
   "cell_type": "code",
   "execution_count": 14,
   "metadata": {},
   "outputs": [],
   "source": [
    "#Randomly hit a single time if player is under 13\n",
    "simdata=[]\n",
    "winners=[]\n",
    "dealerstart=[]\n",
    "playerstart=[]\n",
    "playerend=[]\n",
    "sim_data=pd.DataFrame()\n",
    "for i in range(0,100000):    \n",
    "    card_deck=gen_cards(1)\n",
    "    dealer, player, bet, win, winner = deal(10)\n",
    "    if win==False:\n",
    "        player, bet=TheRandom(dealer,player,bet,win)\n",
    "        dealer_action(dealer,player)\n",
    "    if win==False:\n",
    "        bet, winner = totals(dealer, player, bet)\n",
    "    simdata.append(bet)\n",
    "    winners.append(winner)\n",
    "    dealerstart.append(dealer[0])\n",
    "    playerstart.append(player[0])\n",
    "    playerend.append(player[1])"
   ]
  },
  {
   "cell_type": "code",
   "execution_count": 15,
   "metadata": {},
   "outputs": [
    {
     "name": "stdout",
     "output_type": "stream",
     "text": [
      "Total Profit(loss): -100770.0\n",
      "Dealer won 53376 hands\n",
      "Player won 40963 hands\n",
      "Draws 5661\n",
      "Dealers win percentage 56.58\n"
     ]
    }
   ],
   "source": [
    "x=winners.count(\"dealer\")\n",
    "y=winners.count(\"player\")\n",
    "z=winners.count(\"draw\")\n",
    "print(\"Total Profit(loss):\",sum(simdata))\n",
    "print(\"Dealer won\",x,\"hands\")\n",
    "print(\"Player won\", y,\"hands\")\n",
    "print(\"Draws\", z)\n",
    "print(\"Dealers win percentage\",round((100*x/(y+x)),2))"
   ]
  },
  {
   "cell_type": "code",
   "execution_count": 16,
   "metadata": {},
   "outputs": [
    {
     "data": {
      "image/png": "[encoded data removed]",
      "text/plain": [
       "<Figure size 432x288 with 1 Axes>"
      ]
     },
     "metadata": {
      "needs_background": "light"
     },
     "output_type": "display_data"
    }
   ],
   "source": [
    "#Data collection \n",
    "#Combine all parts of sim into single dataframe\n",
    "sim_data=pd.DataFrame({\"Bet\":simdata,\"Winner\": winners, \"DealerStart\":dealerstart,\"PlayerStart\":playerstart,\"PlayerEnd\":playerend})\n",
    "sim_data[\"PlayerHas\"]=sim_data[\"PlayerStart\"]+sim_data[\"PlayerEnd\"]\n",
    "#Groupby player starting hand and who won for winning percentage\n",
    "PlayerStat=sim_data.groupby([\"PlayerHas\", \"Winner\"]).count()\n",
    "x=PlayerStat.xs('player', level=1)\n",
    "y=PlayerStat.xs('dealer', level=1)\n",
    "#Ignoring pushes, only care about win/loss\n",
    "z=x/(x+y)\n",
    "z1=[]\n",
    "for i in range(0,len(z.values)):\n",
    "    z1.append(z.values[i][0])\n",
    "#Plot of Probabilities\n",
    "ax = sns.barplot(x=z.index,y=z1)\n",
    "ax.set_xlabel(\"Player's Total\",fontsize=16);\n",
    "ax.set_ylabel(\"Probability of Win\",fontsize=16);"
   ]
  },
  {
   "cell_type": "code",
   "execution_count": 17,
   "metadata": {},
   "outputs": [
    {
     "data": {
      "image/png": "[encoded data removed]",
      "text/plain": [
       "<Figure size 432x288 with 1 Axes>"
      ]
     },
     "metadata": {
      "needs_background": "light"
     },
     "output_type": "display_data"
    }
   ],
   "source": [
    "#Histogram of total hands win/loss/draw\n",
    "ax=sns.histplot(winners)\n",
    "ax.set_xlabel(\"Winner\",fontsize=16);\n",
    "ax.set_ylabel(\"Count of wins\",fontsize=16);"
   ]
  },
  {
   "cell_type": "code",
   "execution_count": 18,
   "metadata": {},
   "outputs": [],
   "source": [
    "def TheCoward(dealer, player, bet, win):  \n",
    "    #Literally does nothing\n",
    "    return player, bet"
   ]
  },
  {
   "cell_type": "code",
   "execution_count": 19,
   "metadata": {},
   "outputs": [],
   "source": [
    "#The coward, does not hit anything, only stands\n",
    "simdata=[]\n",
    "winners=[]\n",
    "dealerstart=[]\n",
    "playerstart=[]\n",
    "playerend=[]\n",
    "sim_data=pd.DataFrame()\n",
    "for i in range(0,100000): \n",
    "    card_deck=gen_cards(1)\n",
    "    dealer, player, bet, win, winner = deal(10)\n",
    "    if win==False:\n",
    "        player, bet=TheCoward(dealer,player,bet,win)\n",
    "        dealer_action(dealer,player)\n",
    "    if win==False:\n",
    "        bet, winner = totals(dealer, player, bet)\n",
    "    simdata.append(bet)\n",
    "    winners.append(winner)\n",
    "    dealerstart.append(dealer[0])\n",
    "    playerstart.append(player[0])\n",
    "    playerend.append(player[1])"
   ]
  },
  {
   "cell_type": "code",
   "execution_count": 20,
   "metadata": {},
   "outputs": [
    {
     "name": "stdout",
     "output_type": "stream",
     "text": [
      "Total Profit(loss): -155490.0\n",
      "Dealer won 56549 hands\n",
      "Player won 38678 hands\n",
      "Draws 4773\n",
      "Dealers win percentage 59.38\n"
     ]
    }
   ],
   "source": [
    "x=winners.count(\"dealer\")\n",
    "y=winners.count(\"player\")\n",
    "z=winners.count(\"draw\")\n",
    "print(\"Total Profit(loss):\",sum(simdata))\n",
    "print(\"Dealer won\",x,\"hands\")\n",
    "print(\"Player won\", y,\"hands\")\n",
    "print(\"Draws\", z)\n",
    "print(\"Dealers win percentage\",round((100*x/(y+x)),2))"
   ]
  },
  {
   "cell_type": "code",
   "execution_count": 21,
   "metadata": {},
   "outputs": [
    {
     "data": {
      "image/png": "[encoded data removed]",
      "text/plain": [
       "<Figure size 432x288 with 1 Axes>"
      ]
     },
     "metadata": {
      "needs_background": "light"
     },
     "output_type": "display_data"
    }
   ],
   "source": [
    "#Data collection \n",
    "#Combine all parts of sim into single dataframe\n",
    "sim_data=pd.DataFrame({\"Bet\":simdata,\"Winner\": winners, \"DealerStart\":dealerstart,\"PlayerStart\":playerstart,\"PlayerEnd\":playerend})\n",
    "sim_data[\"Cumulative\"]=sim_data[\"Bet\"].cumsum()\n",
    "sim_data[\"PlayerHas\"]=sim_data[\"PlayerStart\"]+sim_data[\"PlayerEnd\"]\n",
    "#Groupby player starting hand and who won for winning percentage\n",
    "PlayerStat=sim_data.groupby([\"PlayerHas\", \"Winner\"]).count()\n",
    "x=PlayerStat.xs('player', level=1)\n",
    "y=PlayerStat.xs('dealer', level=1)\n",
    "#Ignoring pushes, only care about win/loss\n",
    "z=x/(x+y)\n",
    "z1=[]\n",
    "for i in range(0,len(z.values)):\n",
    "    z1.append(z.values[i][0])\n",
    "#Plot of Probabilities\n",
    "ax = sns.barplot(x=z.index,y=z1)\n",
    "ax.set_xlabel(\"Player's Total\",fontsize=16);\n",
    "ax.set_ylabel(\"Probability of Win\",fontsize=16);"
   ]
  },
  {
   "cell_type": "code",
   "execution_count": 22,
   "metadata": {},
   "outputs": [
    {
     "data": {
      "image/png": "[encoded data removed]",
      "text/plain": [
       "<Figure size 432x288 with 1 Axes>"
      ]
     },
     "metadata": {
      "needs_background": "light"
     },
     "output_type": "display_data"
    }
   ],
   "source": [
    "#Histogram of total hands win/loss/draw\n",
    "ax=sns.histplot(winners)\n",
    "ax.set_xlabel(\"Winner\",fontsize=16);\n",
    "ax.set_ylabel(\"Count of wins\",fontsize=16);"
   ]
  },
  {
   "cell_type": "code",
   "execution_count": 23,
   "metadata": {},
   "outputs": [],
   "source": [
    "#CardCounting with Hi-Lo\n",
    "CardVals={'1':-1,'2':1,'3':1,'4':1,'5':1,'6':1,'7':0,'8':0,'9':0,'10':-1}\n",
    "simdata=[]\n",
    "winners=[]\n",
    "dealerstart=[]\n",
    "playerstart=[]\n",
    "playerend=[]\n",
    "sim_data=pd.DataFrame()\n",
    "low=10\n",
    "high=150\n",
    "simchart=[]\n",
    "for a in range(0,50):\n",
    "    for i in range(0,2500):\n",
    "    #6 deck shoe\n",
    "        card_deck=gen_cards(6)\n",
    "        CardCount=0\n",
    "    #Shuffle cards every 40 hands\n",
    "        for i in range(0,40):\n",
    "            TrueCount=CardCount/(len(card_deck)/52)\n",
    "            if TrueCount>5:\n",
    "                bet=high\n",
    "            else:\n",
    "                bet=low\n",
    "            dealer, player, bet, win, winner = deal(bet)\n",
    "            if win==False:\n",
    "                player, bet=initial_player_action(dealer,player,bet,win)\n",
    "                dealer_action(dealer,player)\n",
    "            if win==False:\n",
    "                bet, winner = totals(dealer, player, bet)\n",
    "            simdata.append(bet)\n",
    "            winners.append(winner)\n",
    "            dealerstart.append(dealer[0])\n",
    "            playerstart.append(player[0])\n",
    "            playerend.append(player[1])\n",
    "            \n",
    "            #print(\"\\n\",dealer, player, bet, winner, TrueCount, CardCount, \"\\n\", card_deck.count(1), card_deck.count(10))\n",
    "            for d in dealer:\n",
    "                CardCount+=CardVals[str(d)]\n",
    "            for p in player:\n",
    "                CardCount+=CardVals[str(p)]\n",
    "    simchart.append(sum(simdata[-100000:]))"
   ]
  },
  {
   "cell_type": "code",
   "execution_count": 24,
   "metadata": {},
   "outputs": [
    {
     "name": "stdout",
     "output_type": "stream",
     "text": [
      "Min: -25620.0 Max: 18075.0 Avg: 1849.2\n"
     ]
    },
    {
     "data": {
      "image/png": "[encoded data removed]",
      "text/plain": [
       "<Figure size 432x288 with 1 Axes>"
      ]
     },
     "metadata": {
      "needs_background": "light"
     },
     "output_type": "display_data"
    }
   ],
   "source": [
    "#Chart of total profit(loss) across 50 runs of 100,000 hands\n",
    "ax=sns.histplot(simchart);\n",
    "ax.set_xlabel(\"Profit\",fontsize=16);\n",
    "print(\"Min:\",min(simchart), \"Max:\",max(simchart), \"Avg:\",sum(simchart)/len(simchart))"
   ]
  },
  {
   "cell_type": "code",
   "execution_count": 25,
   "metadata": {
    "scrolled": true
   },
   "outputs": [
    {
     "name": "stdout",
     "output_type": "stream",
     "text": [
      "Total Profit(loss): 92460.0\n",
      "Dealer won 2403648 hands\n",
      "Player won 2173553 hands\n",
      "Draws 422799\n",
      "Dealers win percentage 52.51\n"
     ]
    }
   ],
   "source": [
    "#Total results\n",
    "x=winners.count(\"dealer\")\n",
    "y=winners.count(\"player\")\n",
    "z=winners.count(\"draw\")\n",
    "print(\"Total Profit(loss):\",sum(simdata))\n",
    "print(\"Dealer won\",x,\"hands\")\n",
    "print(\"Player won\", y,\"hands\")\n",
    "print(\"Draws\", z)\n",
    "print(\"Dealers win percentage\",round((100*x/(y+x)),2))"
   ]
  },
  {
   "cell_type": "code",
   "execution_count": 26,
   "metadata": {},
   "outputs": [
    {
     "data": {
      "image/png": "[encoded data removed]",
      "text/plain": [
       "<Figure size 432x288 with 1 Axes>"
      ]
     },
     "metadata": {
      "needs_background": "light"
     },
     "output_type": "display_data"
    }
   ],
   "source": [
    "#Data collection \n",
    "#Combine all parts of sim into single dataframe\n",
    "sim_data=pd.DataFrame({\"Bet\":simdata,\"Winner\": winners, \"DealerStart\":dealerstart,\"PlayerStart\":playerstart,\"PlayerEnd\":playerend})\n",
    "sim_data[\"Cumulative\"]=sim_data[\"Bet\"].cumsum()\n",
    "sim_data[\"PlayerHas\"]=sim_data[\"PlayerStart\"]+sim_data[\"PlayerEnd\"]\n",
    "#Groupby player starting hand and who won for winning percentage\n",
    "PlayerStat=sim_data.groupby([\"PlayerHas\", \"Winner\"]).count()\n",
    "x=PlayerStat.xs('player', level=1)\n",
    "y=PlayerStat.xs('dealer', level=1)\n",
    "#Ignoring pushes, only care about win/loss\n",
    "z=x/(x+y)\n",
    "z1=[]\n",
    "for i in range(0,len(z.values)):\n",
    "    z1.append(z.values[i][0])\n",
    "#Plot of Probabilities\n",
    "ax = sns.barplot(x=z.index,y=z1)\n",
    "ax.set_xlabel(\"Player's Total\",fontsize=16);\n",
    "ax.set_ylabel(\"Probability of Win\",fontsize=16);"
   ]
  },
  {
   "cell_type": "code",
   "execution_count": 27,
   "metadata": {},
   "outputs": [
    {
     "data": {
      "image/png": "[encoded data removed]",
      "text/plain": [
       "<Figure size 432x288 with 1 Axes>"
      ]
     },
     "metadata": {
      "needs_background": "light"
     },
     "output_type": "display_data"
    }
   ],
   "source": [
    "#Histogram of total hands win/loss/draw\n",
    "ax=sns.histplot(winners)\n",
    "ax.set_xlabel(\"Winner\",fontsize=16);\n",
    "ax.set_ylabel(\"Count of wins\",fontsize=16);"
   ]
  },
  {
   "cell_type": "code",
   "execution_count": null,
   "metadata": {},
   "outputs": [],
   "source": []
  }
 ],
 "metadata": {
  "kernelspec": {
   "display_name": "Python 3",
   "language": "python",
   "name": "python3"
  },
  "language_info": {
   "codemirror_mode": {
    "name": "ipython",
    "version": 3
   },
   "file_extension": ".py",
   "mimetype": "text/x-python",
   "name": "python",
   "nbconvert_exporter": "python",
   "pygments_lexer": "ipython3",
   "version": "3.8.3"
  }
 },
 "nbformat": 4,
 "nbformat_minor": 4
}
