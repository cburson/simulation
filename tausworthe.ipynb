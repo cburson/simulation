{
 "cells": [
  {
   "cell_type": "code",
   "execution_count": 1,
   "id": "under-involvement",
   "metadata": {},
   "outputs": [],
   "source": [
    "#Libraries for all functions\n",
    "import math\n",
    "import scipy.stats as st\n",
    "import pandas as pd\n",
    "import matplotlib.pyplot as plt\n",
    "import statistics as stat\n"
   ]
  },
  {
   "cell_type": "code",
   "execution_count": 2,
   "id": "shared-contractor",
   "metadata": {},
   "outputs": [],
   "source": [
    "#Generate the seed of random 0s and 1s\n",
    "def tausseed(r,q,num):\n",
    "    Bi=[1,0,1,1,0,1,0,1,1,0,1,1,1,1,0,1,1,1,0,0,1]\n",
    "    for i in range(q,num):\n",
    "        Bi.append(Bi[i-r]^Bi[i-q])\n",
    "    return Bi\n",
    "    "
   ]
  },
  {
   "cell_type": "code",
   "execution_count": 3,
   "id": "peaceful-admission",
   "metadata": {},
   "outputs": [],
   "source": [
    "#Generate Uniform(0,1)s from seed\n",
    "def tausgen(Bi, l):\n",
    "    splits=[]\n",
    "    for i in range(0,len(Bi),l):\n",
    "        splits.append(Bi[i:i+l])\n",
    "    x0=[]\n",
    "    for j in range(0,len(splits)):\n",
    "        res = int(\"\".join(str(x) for x in splits[j]), 2)\n",
    "        x0.append(res/2**l)\n",
    "    return x0"
   ]
  },
  {
   "cell_type": "code",
   "execution_count": 4,
   "id": "packed-borough",
   "metadata": {},
   "outputs": [
    {
     "data": {
      "text/plain": [
       "[1, 0, 1, 1, 0, 1, 0, 1, 1, 0, 1, 1, 1, 1, 0, 1, 1, 1, 0, 0]"
      ]
     },
     "execution_count": 4,
     "metadata": {},
     "output_type": "execute_result"
    }
   ],
   "source": [
    "seed=tausseed(11,17,50000) #r, q, number of values\n",
    "seed[:20]"
   ]
  },
  {
   "cell_type": "code",
   "execution_count": 5,
   "id": "stock-territory",
   "metadata": {},
   "outputs": [
    {
     "data": {
      "text/plain": [
       "[0.16438579559326172,\n",
       " 0.8424863815307617,\n",
       " 0.11890602111816406,\n",
       " 0.2545900344848633,\n",
       " 0.019720077514648438,\n",
       " 0.13687801361083984,\n",
       " 0.4406099319458008,\n",
       " 0.6293735504150391,\n",
       " 0.9506025314331055,\n",
       " 0.07414913177490234,\n",
       " 0.8362131118774414,\n",
       " 0.16130542755126953,\n",
       " 0.7414369583129883,\n",
       " 0.40328407287597656,\n",
       " 0.32877254486083984,\n",
       " 0.6849727630615234,\n",
       " 0.23781204223632812,\n",
       " 0.5091800689697266,\n",
       " 0.039440155029296875,\n",
       " 0.2737560272216797]"
      ]
     },
     "execution_count": 5,
     "metadata": {},
     "output_type": "execute_result"
    }
   ],
   "source": [
    "X=tausgen(seed,20) #bitseed, length for generation(l)\n",
    "X[100:120]"
   ]
  },
  {
   "cell_type": "code",
   "execution_count": 6,
   "id": "massive-iraqi",
   "metadata": {},
   "outputs": [
    {
     "data": {
      "image/png": "[encoded data removed]",
      "text/plain": [
       "<Figure size 432x288 with 1 Axes>"
      ]
     },
     "metadata": {
      "needs_background": "light"
     },
     "output_type": "display_data"
    },
    {
     "name": "stdout",
     "output_type": "stream",
     "text": [
      "2501\n"
     ]
    }
   ],
   "source": [
    "#Plot of (x, x+1) on unit square\n",
    "fig,ax=plt.subplots()\n",
    "ax.scatter(X[:len(X)-1], X[1:len(X)])\n",
    "plt.show()\n",
    "print(len(X))"
   ]
  },
  {
   "cell_type": "code",
   "execution_count": 7,
   "id": "lyric-lafayette",
   "metadata": {},
   "outputs": [
    {
     "data": {
      "image/png": "[encoded data removed]",
      "text/plain": [
       "<Figure size 432x288 with 1 Axes>"
      ]
     },
     "metadata": {
      "needs_background": "light"
     },
     "output_type": "display_data"
    }
   ],
   "source": [
    "#histogram of values\n",
    "num_bins=5\n",
    "n, bins, patches = plt.hist(X, num_bins, facecolor='blue', alpha=0.5)\n",
    "plt.show()"
   ]
  },
  {
   "cell_type": "code",
   "execution_count": 8,
   "id": "special-newton",
   "metadata": {},
   "outputs": [
    {
     "data": {
      "text/plain": [
       "Power_divergenceResult(statistic=7.394642143142744, pvalue=0.11644587454318388)"
      ]
     },
     "execution_count": 8,
     "metadata": {},
     "output_type": "execute_result"
    }
   ],
   "source": [
    "#chisquare\n",
    "dfX=pd.DataFrame(X,columns=['Rand'])\n",
    "dfX['quantiles'] = pd.cut(dfX['Rand'],bins=[0.00, .200, .400, .600, .800, 1.00])\n",
    "dfX1=pd.DataFrame(dfX['quantiles'].value_counts())\n",
    "#df1['observed']=df['quantiles'].value_counts()\n",
    "dfX1['expected']=len(X)/5\n",
    "st.chisquare(f_obs=dfX1['quantiles'], f_exp=dfX1['expected'])"
   ]
  },
  {
   "cell_type": "code",
   "execution_count": 9,
   "id": "instructional-emerald",
   "metadata": {},
   "outputs": [
    {
     "data": {
      "text/plain": [
       "7.326832592675396"
      ]
     },
     "execution_count": 9,
     "metadata": {},
     "output_type": "execute_result"
    }
   ],
   "source": [
    "#Chi^2 statistic manual\n",
    "sum(((dfX1['quantiles']-dfX1['expected'])**2)/dfX1['quantiles'])"
   ]
  },
  {
   "cell_type": "code",
   "execution_count": 10,
   "id": "civilian-doctor",
   "metadata": {},
   "outputs": [],
   "source": [
    "#Runs test above/below\n",
    "def runs(X):\n",
    "    Runs, n1, n2 = 0,0,0\n",
    "    XMedian=stat.mean(X)\n",
    "    for i in range(len(X)):\n",
    "        #Number of runs\n",
    "        if (X[i] >= XMedian and X[i-1] < XMedian) or (X[i] < XMedian and X[i-1] >= XMedian):\n",
    "            Runs +=1\n",
    "        #Number of positive runs\n",
    "        if(X[i]) >= XMedian:\n",
    "            n1+=1\n",
    "        #Number of negative runs\n",
    "        else:\n",
    "            n2+=1\n",
    "    ExpB=((2*n1*n2)/(n1+n2))+1\n",
    "    StdDevB=((2*n1*n2*(2*n1*n2-n1-n2))/(((n1+n2)**2)*(n1+n2-1)))**(1/2)\n",
    "    Z0=(Runs-ExpB)/StdDevB\n",
    "    if abs(Z0)<1.96:\n",
    "        print(\"Success, Z-stat of\", Z0)\n",
    "    else:\n",
    "        print(\"Failure, Z-stat of\", Z0)\n",
    "    return Z0"
   ]
  },
  {
   "cell_type": "code",
   "execution_count": 11,
   "id": "heated-european",
   "metadata": {},
   "outputs": [
    {
     "name": "stdout",
     "output_type": "stream",
     "text": [
      "Success, Z-stat of -0.5399288491695212\n"
     ]
    },
    {
     "data": {
      "text/plain": [
       "-0.5399288491695212"
      ]
     },
     "execution_count": 11,
     "metadata": {},
     "output_type": "execute_result"
    }
   ],
   "source": [
    "runs(X)"
   ]
  },
  {
   "cell_type": "code",
   "execution_count": 12,
   "id": "rental-fantasy",
   "metadata": {},
   "outputs": [],
   "source": [
    "#Convert U(0,1)s into Normal(0,1)s\n",
    "def normals(Ui):\n",
    "    normals=[]\n",
    "    for i in range(len(Ui)):\n",
    "        normals.append(st.norm.ppf(Ui[i]))\n",
    "    return normals\n"
   ]
  },
  {
   "cell_type": "code",
   "execution_count": 13,
   "id": "expected-appreciation",
   "metadata": {},
   "outputs": [
    {
     "data": {
      "image/png": "[encoded data removed]",
      "text/plain": [
       "<Figure size 432x288 with 1 Axes>"
      ]
     },
     "metadata": {
      "needs_background": "light"
     },
     "output_type": "display_data"
    }
   ],
   "source": [
    "#Plot of Normal(0,1) from Uniform(0,1)\n",
    "norms=normals(X)\n",
    "num_bins=10\n",
    "n, bins, patches = plt.hist(norms, num_bins, facecolor='blue', alpha=0.5)\n",
    "plt.show()\n"
   ]
  },
  {
   "cell_type": "code",
   "execution_count": 14,
   "id": "solved-tribune",
   "metadata": {},
   "outputs": [
    {
     "data": {
      "text/plain": [
       "(-4.427418854242837, 4.76837158203125e-06)"
      ]
     },
     "execution_count": 14,
     "metadata": {},
     "output_type": "execute_result"
    }
   ],
   "source": [
    "min(norms), min(X)"
   ]
  },
  {
   "cell_type": "code",
   "execution_count": 15,
   "id": "utility-genetics",
   "metadata": {},
   "outputs": [],
   "source": [
    "#Another algorithm for creating U(0,1)s, found online while researching Tausworthe Bitshift\n",
    "xorshift_seed = 123456 # The initial seed should go here\n",
    "\n",
    "def xorshift():\n",
    "  global xorshift_seed\n",
    "  xorshift_seed ^= xorshift_seed << 13\n",
    "  xorshift_seed ^= xorshift_seed >> 17\n",
    "  xorshift_seed ^= xorshift_seed << 5\n",
    "  xorshift_seed %= int(\"ffffffff\", 16) # The modulus limits it to a 32-bit number\n",
    "  return xorshift_seed"
   ]
  },
  {
   "cell_type": "code",
   "execution_count": 16,
   "id": "natural-permit",
   "metadata": {},
   "outputs": [
    {
     "data": {
      "image/png": "[encoded data removed]",
      "text/plain": [
       "<Figure size 432x288 with 1 Axes>"
      ]
     },
     "metadata": {
      "needs_background": "light"
     },
     "output_type": "display_data"
    }
   ],
   "source": [
    "#Plot of (Y, Y+1) on unit square\n",
    "Y=[]\n",
    "for i in range(2500):\n",
    "    Y.append(xorshift()/4294967295)\n",
    "\n",
    "fig,ax=plt.subplots()\n",
    "ax.scatter(Y[:len(Y)-1], Y[1:len(Y)]) #plotting on 1x1 square\n",
    "plt.show()"
   ]
  },
  {
   "cell_type": "code",
   "execution_count": 17,
   "id": "experienced-amplifier",
   "metadata": {},
   "outputs": [
    {
     "data": {
      "image/png": "[encoded data removed]",
      "text/plain": [
       "<Figure size 432x288 with 1 Axes>"
      ]
     },
     "metadata": {
      "needs_background": "light"
     },
     "output_type": "display_data"
    }
   ],
   "source": [
    "#Histogram of new data\n",
    "num_bins=5\n",
    "n, bins, patches = plt.hist(Y, num_bins, facecolor='blue', alpha=0.5)\n",
    "plt.show()"
   ]
  },
  {
   "cell_type": "code",
   "execution_count": 18,
   "id": "grand-wagon",
   "metadata": {},
   "outputs": [
    {
     "data": {
      "text/plain": [
       "Power_divergenceResult(statistic=10.236, pvalue=0.03663450385917859)"
      ]
     },
     "execution_count": 18,
     "metadata": {},
     "output_type": "execute_result"
    }
   ],
   "source": [
    "#Chi^2 Stat\n",
    "dfY=pd.DataFrame(Y,columns=['Rand'])\n",
    "dfY['quantiles'] = pd.cut(dfY['Rand'],bins=[0.00, .200, .400, .600, .800, 1.00])\n",
    "dfY1=pd.DataFrame(dfY['quantiles'].value_counts())\n",
    "dfY1['expected']=len(Y)/5\n",
    "st.chisquare(f_obs=dfY1['quantiles'], f_exp=dfY1['expected'])"
   ]
  },
  {
   "cell_type": "code",
   "execution_count": 19,
   "id": "electric-threshold",
   "metadata": {},
   "outputs": [
    {
     "data": {
      "text/plain": [
       "10.510762642822778"
      ]
     },
     "execution_count": 19,
     "metadata": {},
     "output_type": "execute_result"
    }
   ],
   "source": [
    "#Chi^2 statistic manual\n",
    "sum(((dfY1['quantiles']-dfY1['expected'])**2)/dfY1['quantiles'])"
   ]
  },
  {
   "cell_type": "code",
   "execution_count": 20,
   "id": "timely-frontier",
   "metadata": {},
   "outputs": [
    {
     "name": "stdout",
     "output_type": "stream",
     "text": [
      "Success, Z-stat of 1.240543379754807\n"
     ]
    },
    {
     "data": {
      "text/plain": [
       "1.240543379754807"
      ]
     },
     "execution_count": 20,
     "metadata": {},
     "output_type": "execute_result"
    }
   ],
   "source": [
    "runs(Y)"
   ]
  },
  {
   "cell_type": "code",
   "execution_count": 21,
   "id": "architectural-brisbane",
   "metadata": {},
   "outputs": [
    {
     "data": {
      "image/png": "[encoded data removed]",
      "text/plain": [
       "<Figure size 432x288 with 1 Axes>"
      ]
     },
     "metadata": {
      "needs_background": "light"
     },
     "output_type": "display_data"
    }
   ],
   "source": [
    "#Xorshift Normal(0,1)\n",
    "normsY=normals(Y)\n",
    "num_bins=10\n",
    "n, bins, patches = plt.hist(normsY, num_bins, facecolor='blue', alpha=0.5)\n",
    "plt.show()"
   ]
  },
  {
   "cell_type": "code",
   "execution_count": 22,
   "id": "sporting-sarah",
   "metadata": {},
   "outputs": [
    {
     "data": {
      "text/plain": [
       "(-3.4519501914950066, 0.00027827522723895386)"
      ]
     },
     "execution_count": 22,
     "metadata": {},
     "output_type": "execute_result"
    }
   ],
   "source": [
    "min(normsY), min(Y)"
   ]
  },
  {
   "cell_type": "code",
   "execution_count": 23,
   "id": "respective-hardware",
   "metadata": {},
   "outputs": [
    {
     "data": {
      "image/png": "[encoded data removed]",
      "text/plain": [
       "<Figure size 432x288 with 1 Axes>"
      ]
     },
     "metadata": {
      "needs_background": "light"
     },
     "output_type": "display_data"
    }
   ],
   "source": [
    "#Plot of (Z, Z+1) on unit square\n",
    "Z=[]\n",
    "for i in range(10000):\n",
    "    Z.append(xorshift()/4294967295)\n",
    "\n",
    "fig,ax=plt.subplots()\n",
    "ax.scatter(Z[:len(Z)-1], Z[1:len(Z)]) #plotting on 1x1 square\n",
    "plt.show()"
   ]
  },
  {
   "cell_type": "code",
   "execution_count": 24,
   "id": "affected-zimbabwe",
   "metadata": {},
   "outputs": [
    {
     "data": {
      "image/png": "[encoded data removed]",
      "text/plain": [
       "<Figure size 432x288 with 1 Axes>"
      ]
     },
     "metadata": {
      "needs_background": "light"
     },
     "output_type": "display_data"
    }
   ],
   "source": [
    "#Histogram of new data\n",
    "num_bins=5\n",
    "n, bins, patches = plt.hist(Z, num_bins, facecolor='blue', alpha=0.5)\n",
    "plt.show()"
   ]
  },
  {
   "cell_type": "code",
   "execution_count": 25,
   "id": "dental-static",
   "metadata": {},
   "outputs": [
    {
     "data": {
      "text/plain": [
       "Power_divergenceResult(statistic=1.944, pvalue=0.7460581417448875)"
      ]
     },
     "execution_count": 25,
     "metadata": {},
     "output_type": "execute_result"
    }
   ],
   "source": [
    "#Chi^2 Stat\n",
    "dfZ=pd.DataFrame(Z,columns=['Rand'])\n",
    "dfZ['quantiles'] = pd.cut(dfZ['Rand'],bins=[0.00, .200, .400, .600, .800, 1.00])\n",
    "dfZ1=pd.DataFrame(dfZ['quantiles'].value_counts())\n",
    "dfZ1['expected']=len(Z)/5\n",
    "st.chisquare(f_obs=dfZ1['quantiles'], f_exp=dfZ1['expected'])"
   ]
  },
  {
   "cell_type": "code",
   "execution_count": 26,
   "id": "indonesian-moldova",
   "metadata": {},
   "outputs": [
    {
     "data": {
      "text/plain": [
       "1.9420385511987994"
      ]
     },
     "execution_count": 26,
     "metadata": {},
     "output_type": "execute_result"
    }
   ],
   "source": [
    "#Chi^2 statistic manual\n",
    "sum(((dfZ1['quantiles']-dfZ1['expected'])**2)/dfZ1['quantiles'])"
   ]
  },
  {
   "cell_type": "code",
   "execution_count": 27,
   "id": "married-frederick",
   "metadata": {},
   "outputs": [
    {
     "name": "stdout",
     "output_type": "stream",
     "text": [
      "Success, Z-stat of 0.6634194936694298\n"
     ]
    },
    {
     "data": {
      "text/plain": [
       "0.6634194936694298"
      ]
     },
     "execution_count": 27,
     "metadata": {},
     "output_type": "execute_result"
    }
   ],
   "source": [
    "runs(Z)"
   ]
  },
  {
   "cell_type": "code",
   "execution_count": 28,
   "id": "fixed-republican",
   "metadata": {},
   "outputs": [
    {
     "data": {
      "image/png": "[encoded data removed]",
      "text/plain": [
       "<Figure size 432x288 with 1 Axes>"
      ]
     },
     "metadata": {
      "needs_background": "light"
     },
     "output_type": "display_data"
    }
   ],
   "source": [
    "#Xorshift Normal(0,1)\n",
    "normsZ=normals(Z)\n",
    "num_bins=10\n",
    "n, bins, patches = plt.hist(normsZ, num_bins, facecolor='blue', alpha=0.5)\n",
    "plt.show()"
   ]
  },
  {
   "cell_type": "code",
   "execution_count": 29,
   "id": "studied-moses",
   "metadata": {},
   "outputs": [
    {
     "data": {
      "text/plain": [
       "(-3.576758632976928, 0.00017394055616435142)"
      ]
     },
     "execution_count": 29,
     "metadata": {},
     "output_type": "execute_result"
    }
   ],
   "source": [
    "min(normsZ), min(Z)"
   ]
  },
  {
   "cell_type": "code",
   "execution_count": null,
   "id": "addressed-receptor",
   "metadata": {},
   "outputs": [],
   "source": []
  }
 ],
 "metadata": {
  "kernelspec": {
   "display_name": "Python 3",
   "language": "python",
   "name": "python3"
  },
  "language_info": {
   "codemirror_mode": {
    "name": "ipython",
    "version": 3
   },
   "file_extension": ".py",
   "mimetype": "text/x-python",
   "name": "python",
   "nbconvert_exporter": "python",
   "pygments_lexer": "ipython3",
   "version": "3.8.3"
  }
 },
 "nbformat": 4,
 "nbformat_minor": 5
}
